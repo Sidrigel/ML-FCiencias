{
 "cells": [
  {
   "cell_type": "markdown",
   "metadata": {},
   "source": [
    "### Tarea 2.2"
   ]
  },
  {
   "cell_type": "markdown",
   "metadata": {},
   "source": [
    "1.- Demuestre que la regla de Bayes, es óptima esto es que si $h$ es otra regla de clasificación, entonces $L(h*)\\leq L(h)$"
   ]
  },
  {
   "cell_type": "markdown",
   "metadata": {},
   "source": [
    "2.- El archivo corredor contiene los tiempos parciales en minutos que 12 corredores tardan en recorrer 16 kilometros. \n",
    "1. Obtenga a matriz de varianzas y covarianzas \n",
    "2. Obtenga los valores y vectores propios\n",
    "3. Obtenga los dos primeros componetes principales\n",
    "4. Obtenga la varianza explicada por los dos componenetes\n",
    "5. Grafique \n",
    "6. Interprete cada una de las componenetes principales"
   ]
  },
  {
   "cell_type": "markdown",
   "metadata": {},
   "source": [
    "3.- Obtenga datos de https://archive.ics.uci.edu/ml/machine-learning-databases/spambase/ Los datos contienen 57 covariables relacionados a mensajes de email. Cada mensaje fue clasificado como spam(Y=1), o no spam(Y=0). La salida de Y se enuentra en la ultima columna.\n",
    "El objetivo es predecir si email es spam o no. \n",
    "Construya reglas de clasificación QDA y LDA. Y obtenga la tasa de error de mal clasificación."
   ]
  },
  {
   "cell_type": "markdown",
   "metadata": {},
   "source": [
    "4.- Haga un ejemplo de QDA y LDA con dos normales bivariadas con diferentes matrices de varianzas y covarianzas, como vimos en clase. Haga un teste de su regla de clasificación con 10 nuevas observaciones. Gráfique.   "
   ]
  }
 ],
 "metadata": {
  "kernelspec": {
   "display_name": "Python 3",
   "language": "python",
   "name": "python3"
  },
  "language_info": {
   "codemirror_mode": {
    "name": "ipython",
    "version": 3
   },
   "file_extension": ".py",
   "mimetype": "text/x-python",
   "name": "python",
   "nbconvert_exporter": "python",
   "pygments_lexer": "ipython3",
   "version": "3.6.5"
  }
 },
 "nbformat": 4,
 "nbformat_minor": 2
}
