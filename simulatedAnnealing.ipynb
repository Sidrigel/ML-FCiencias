{
 "cells": [
  {
   "cell_type": "code",
   "execution_count": 3,
   "metadata": {},
   "outputs": [],
   "source": [
    "from numpy import*\n",
    "from itertools import*\n",
    "from random import uniform"
   ]
  },
  {
   "cell_type": "code",
   "execution_count": 19,
   "metadata": {},
   "outputs": [],
   "source": [
    "#configuracion inicial\n",
    "X_0 = array([3, 1, 2, 4, 5])\n",
    "T_0=40\n",
    "X_n=permutations(X_0)\n",
    "perm=list(X_n)"
   ]
  },
  {
   "cell_type": "code",
   "execution_count": 20,
   "metadata": {},
   "outputs": [
    {
     "data": {
      "text/plain": [
       "(3, 1, 2, 5, 4)"
      ]
     },
     "execution_count": 20,
     "metadata": {},
     "output_type": "execute_result"
    }
   ],
   "source": [
    "X_1=perm[1] #primera permutacion\n",
    "X_1"
   ]
  },
  {
   "cell_type": "code",
   "execution_count": 21,
   "metadata": {},
   "outputs": [],
   "source": [
    "#generamos la uniforme \n",
    "u=uniform(0,1)"
   ]
  },
  {
   "cell_type": "code",
   "execution_count": 25,
   "metadata": {},
   "outputs": [
    {
     "data": {
      "text/plain": [
       "array([[0, 1, 3, 2, 2],\n",
       "       [2, 0, 4, 5, 3],\n",
       "       [2, 4, 0, 3, 2],\n",
       "       [5, 7, 3, 0, 4],\n",
       "       [2, 1, 4, 7, 0]])"
      ]
     },
     "execution_count": 25,
     "metadata": {},
     "output_type": "execute_result"
    }
   ],
   "source": [
    "#matriz de costo \n",
    "matriz=array([[0,1,3,2,2],[2,0,4,5,3],[2,4,0,3,2],[5,7,3,0,4],[2,1,4,7,0]])\n",
    "matriz"
   ]
  },
  {
   "cell_type": "code",
   "execution_count": 23,
   "metadata": {},
   "outputs": [],
   "source": [
    "def costo(lista, matriz):\n",
    "    suma=0\n",
    "    for i in range(len(lista)-1):\n",
    "        suma+=matriz[lista[i]-1][lista[i+1]-1]\n",
    "    return(suma+matriz[lista[-1]-1][lista[0]-1])"
   ]
  },
  {
   "cell_type": "code",
   "execution_count": 27,
   "metadata": {},
   "outputs": [
    {
     "data": {
      "text/plain": [
       "16"
      ]
     },
     "execution_count": 27,
     "metadata": {},
     "output_type": "execute_result"
    }
   ],
   "source": [
    "costo(X_1,matriz) #costo de camino para la primera permutacion"
   ]
  },
  {
   "cell_type": "code",
   "execution_count": null,
   "metadata": {},
   "outputs": [],
   "source": [
    "#ESto le servirá\n",
    "#if(costo(perm[1])<=costo(perm[0])):\n",
    "#    conf=perm[1]\n",
    "#else:\n",
    "#    u=uniform(0,1)\n",
    "#    if u<exp(-(costo(perm[1])<=costo(perm[0]))/T_0):\n",
    "#        X[t+1]=Y\n",
    "#    else:\n",
    "#        X[t+1]=X[t]\n",
    "    "
   ]
  },
  {
   "cell_type": "code",
   "execution_count": 30,
   "metadata": {},
   "outputs": [],
   "source": [
    "def sumulated_Aneling(params=None):\n",
    "    return \n",
    "        \n",
    "    "
   ]
  },
  {
   "cell_type": "code",
   "execution_count": 31,
   "metadata": {},
   "outputs": [],
   "source": [
    "sumulated_Aneling()"
   ]
  }
 ],
 "metadata": {
  "kernelspec": {
   "display_name": "Python 3",
   "language": "python",
   "name": "python3"
  },
  "language_info": {
   "codemirror_mode": {
    "name": "ipython",
    "version": 3
   },
   "file_extension": ".py",
   "mimetype": "text/x-python",
   "name": "python",
   "nbconvert_exporter": "python",
   "pygments_lexer": "ipython3",
   "version": "3.6.5"
  }
 },
 "nbformat": 4,
 "nbformat_minor": 2
}
