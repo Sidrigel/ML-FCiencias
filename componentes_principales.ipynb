{
 "cells": [
  {
   "cell_type": "code",
   "execution_count": 104,
   "metadata": {},
   "outputs": [],
   "source": [
    "from sklearn.decomposition import PCA\n",
    "from pylab import*\n",
    "from numpy import*\n",
    "from scipy import linalg\n",
    "from sklearn import datasets"
   ]
  },
  {
   "cell_type": "code",
   "execution_count": 105,
   "metadata": {},
   "outputs": [
    {
     "name": "stdout",
     "output_type": "stream",
     "text": [
      "[0.00651035 0.11265777 0.52083188] [[ 0.57506807  0.04269545  0.81699071]\n",
      " [-0.55178633  0.75753962  0.34880593]\n",
      " [ 0.6040104   0.65139145 -0.45919561]]\n"
     ]
    }
   ],
   "source": [
    "cov=array([[0.35,0.15,-0.19],[0.15,0.13,-0.03],[-0.19,-0.03,0.16]])\n",
    "v,w=linalg.eigh(cov)\n",
    "#obtener valores y vectores propios\n",
    "print(v,w)\n",
    "w=w[0] / linalg.norm(w[0]) #normalizacion del primer vector propio"
   ]
  },
  {
   "cell_type": "code",
   "execution_count": 108,
   "metadata": {},
   "outputs": [
    {
     "name": "stdout",
     "output_type": "stream",
     "text": [
      "['sepal length (cm)', 'sepal width (cm)', 'petal length (cm)', 'petal width (cm)']\n",
      "['setosa' 'versicolor' 'virginica']\n"
     ]
    }
   ],
   "source": [
    "iris=datasets.load_iris()\n",
    "print(iris.feature_names)\n",
    "X=iris.data\n",
    "y=iris.target\n",
    "target=iris.target_names\n",
    "print(target)"
   ]
  },
  {
   "cell_type": "code",
   "execution_count": 112,
   "metadata": {},
   "outputs": [
    {
     "name": "stdout",
     "output_type": "stream",
     "text": [
      "[[ 0.36158968 -0.08226889  0.85657211  0.35884393]\n",
      " [ 0.65653988  0.72971237 -0.1757674  -0.07470647]]\n"
     ]
    }
   ],
   "source": [
    "pca=PCA(n_components=2)\n",
    "pca_coef=pca.fit(X)\n",
    "print(pca_coef.components_) #componentes\n",
    "v_e=round(sum(pca.explained_variance_ratio_)*100,2)"
   ]
  },
  {
   "cell_type": "code",
   "execution_count": 113,
   "metadata": {},
   "outputs": [
    {
     "data": {
      "image/png": "[encoded data removed]",
      "text/plain": [
       "<Figure size 432x360 with 1 Axes>"
      ]
     },
     "metadata": {},
     "output_type": "display_data"
    }
   ],
   "source": [
    "pca=pca.fit_transform(X)\n",
    "colores=['red','blue','green']\n",
    "for X_tr in [pca]:\n",
    "    figure(figsize=(6,5))\n",
    "    for colores,i,target_names in zip(colores,[0,1,2],iris.target_names):\n",
    "        scatter(X_tr[y==i,0],X_tr[y==i,1],\n",
    "                color=colores,label=target_names)\n",
    "        legend(loc=\"best\",scatterpoints=1)\n",
    "title('PCA'+'\\n'+'Varianza total explicada '+str(v_e)+'%')  \n",
    "show()        "
   ]
  },
  {
   "cell_type": "code",
   "execution_count": null,
   "metadata": {},
   "outputs": [],
   "source": []
  }
 ],
 "metadata": {
  "kernelspec": {
   "display_name": "Python 3",
   "language": "python",
   "name": "python3"
  },
  "language_info": {
   "codemirror_mode": {
    "name": "ipython",
    "version": 3
   },
   "file_extension": ".py",
   "mimetype": "text/x-python",
   "name": "python",
   "nbconvert_exporter": "python",
   "pygments_lexer": "ipython3",
   "version": "3.6.4"
  }
 },
 "nbformat": 4,
 "nbformat_minor": 2
}
